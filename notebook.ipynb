{
 "cells": [
  {
   "cell_type": "code",
   "execution_count": 2,
   "metadata": {},
   "outputs": [
    {
     "name": "stdout",
     "output_type": "stream",
     "text": [
      "WARNING:tensorflow:From d:\\Users\\letmc\\anaconda3\\envs\\stock\\lib\\site-packages\\keras\\src\\losses.py:2976: The name tf.losses.sparse_softmax_cross_entropy is deprecated. Please use tf.compat.v1.losses.sparse_softmax_cross_entropy instead.\n",
      "\n"
     ]
    }
   ],
   "source": [
    "import pandas as pd\n",
    "import matplotlib.pyplot as plt\n",
    "import tensorflow as tf\n",
    "import numpy as np"
   ]
  },
  {
   "cell_type": "code",
   "execution_count": 3,
   "metadata": {},
   "outputs": [
    {
     "data": {
      "text/html": [
       "<div>\n",
       "<style scoped>\n",
       "    .dataframe tbody tr th:only-of-type {\n",
       "        vertical-align: middle;\n",
       "    }\n",
       "\n",
       "    .dataframe tbody tr th {\n",
       "        vertical-align: top;\n",
       "    }\n",
       "\n",
       "    .dataframe thead th {\n",
       "        text-align: right;\n",
       "    }\n",
       "</style>\n",
       "<table border=\"1\" class=\"dataframe\">\n",
       "  <thead>\n",
       "    <tr style=\"text-align: right;\">\n",
       "      <th></th>\n",
       "      <th>Date</th>\n",
       "      <th>Close</th>\n",
       "    </tr>\n",
       "  </thead>\n",
       "  <tbody>\n",
       "    <tr>\n",
       "      <th>0</th>\n",
       "      <td>02/01/2023 16:56:00</td>\n",
       "      <td>14,3</td>\n",
       "    </tr>\n",
       "    <tr>\n",
       "      <th>1</th>\n",
       "      <td>03/01/2023 16:56:00</td>\n",
       "      <td>14,57</td>\n",
       "    </tr>\n",
       "    <tr>\n",
       "      <th>2</th>\n",
       "      <td>04/01/2023 16:56:00</td>\n",
       "      <td>14,97</td>\n",
       "    </tr>\n",
       "    <tr>\n",
       "      <th>3</th>\n",
       "      <td>05/01/2023 16:56:00</td>\n",
       "      <td>14,8</td>\n",
       "    </tr>\n",
       "    <tr>\n",
       "      <th>4</th>\n",
       "      <td>06/01/2023 16:56:00</td>\n",
       "      <td>14,55</td>\n",
       "    </tr>\n",
       "  </tbody>\n",
       "</table>\n",
       "</div>"
      ],
      "text/plain": [
       "                  Date  Close\n",
       "0  02/01/2023 16:56:00   14,3\n",
       "1  03/01/2023 16:56:00  14,57\n",
       "2  04/01/2023 16:56:00  14,97\n",
       "3  05/01/2023 16:56:00   14,8\n",
       "4  06/01/2023 16:56:00  14,55"
      ]
     },
     "execution_count": 3,
     "metadata": {},
     "output_type": "execute_result"
    }
   ],
   "source": [
    "dataframe = pd.read_csv(\"Google Finance.csv\")\n",
    "dataframe.head()"
   ]
  },
  {
   "cell_type": "markdown",
   "metadata": {},
   "source": [
    "# Tratamento de Dados"
   ]
  },
  {
   "cell_type": "markdown",
   "metadata": {},
   "source": [
    "## String para Decimal\n",
    "\n",
    "Os valores numéricos estão representados como strings. É preciso convertê-los."
   ]
  },
  {
   "cell_type": "code",
   "execution_count": 4,
   "metadata": {},
   "outputs": [],
   "source": [
    "dataframe['Close'] = dataframe['Close'].str.replace(',', '.')\n",
    "dataframe['Close'] = pd.to_numeric(dataframe['Close'])"
   ]
  },
  {
   "cell_type": "markdown",
   "metadata": {},
   "source": [
    "## Filtros\n",
    "\n",
    "Os filtros a seguir não se aplicam ao projeto atual devido ao dataset utilizado, porém podem ser interessantes posteriormente."
   ]
  },
  {
   "cell_type": "code",
   "execution_count": 5,
   "metadata": {},
   "outputs": [],
   "source": [
    "# Filtrar colunas com mais de 90% de elementos nulos\n",
    "\n",
    "# dataframe = dataframe[dataframe.columns[dataframe.isnull().mean() < 0.90]]"
   ]
  },
  {
   "cell_type": "code",
   "execution_count": 6,
   "metadata": {},
   "outputs": [],
   "source": [
    "# Tratando NaN's\n",
    "\n",
    "# dataframe = dataframe.interpolate()\n",
    "# dataframe = dataframe.fillna(method='bfill')"
   ]
  },
  {
   "cell_type": "markdown",
   "metadata": {},
   "source": [
    "# Tratamento para a Rede Neural"
   ]
  },
  {
   "cell_type": "markdown",
   "metadata": {},
   "source": [
    "## Criando entradas e saídas de treino\n",
    "\n",
    "As entradas (X_train) são os 60 valores anteriores do preço da ação. A saída é o valor seguinte.\n",
    "\n",
    "A seguir, também serão divididos os datasets de treino e de avaliação. Aprox. 70% dos dados serão\n",
    "usados no treino, e o restante na avaliação.\n",
    "\n",
    "É importante notar também que a divisão foi feita seguindo a ordem dos dados no arquivo (os 70%\n",
    "primeiros são para treino, os 30% últimos para avaliação). Pode ser interessante mudar isso."
   ]
  },
  {
   "cell_type": "code",
   "execution_count": 41,
   "metadata": {},
   "outputs": [],
   "source": [
    "dataset = dataframe.iloc[:, 1].values\n",
    "\n",
    "# Separação entre treino e avaliação\n",
    "\n",
    "training_df = dataframe.iloc[0:int(dataset.shape[0] * 0.7), :]\n",
    "test_df = dataframe.iloc[int(dataset.shape[0] * 0.7):, :]\n",
    "\n",
    "training_set = training_df.iloc[:, 1].values\n",
    "test_set = test_df.iloc[:, 1].values\n",
    "\n",
    "# Separação entre entradas e saídas de treino\n",
    "\n",
    "X_train = []\n",
    "y_train = []\n",
    "\n",
    "for i in range(60, len(training_set)):\n",
    "    X_train.append(training_set[i-60:i])\n",
    "    y_train.append(training_set[i])\n",
    "\n",
    "X_train = np.array(X_train)\n",
    "y_train = np.array(y_train)\n",
    "\n",
    "X_train = np.reshape(X_train, (X_train.shape[0], X_train.shape[1], 1))\n",
    "# X_train.shape == ((int(dataset.shape[0] * 0.7) - 60), 60, 1)"
   ]
  },
  {
   "cell_type": "markdown",
   "metadata": {},
   "source": [
    "# Rede Neural\n",
    "\n",
    "Foi implementada uma RNN, adequada para predição de séries temporais."
   ]
  },
  {
   "cell_type": "code",
   "execution_count": 42,
   "metadata": {},
   "outputs": [],
   "source": [
    "model = tf.keras.models.Sequential()\n",
    "\n",
    "model.add(tf.keras.layers.LSTM(units=50, return_sequences=True, input_shape=(X_train.shape[1], 1)))\n",
    "model.add(tf.keras.layers.Dropout(0.2))\n",
    "\n",
    "model.add(tf.keras.layers.LSTM(units=50, return_sequences=True))\n",
    "model.add(tf.keras.layers.Dropout(0.2))\n",
    "\n",
    "model.add(tf.keras.layers.LSTM(units=50, return_sequences=True))\n",
    "model.add(tf.keras.layers.Dropout(0.2))\n",
    "\n",
    "model.add(tf.keras.layers.LSTM(units=50))\n",
    "model.add(tf.keras.layers.Dropout(0.2))\n",
    "\n",
    "model.add(tf.keras.layers.Dense(units=1))\n",
    "\n",
    "model.compile(optimizer='adam', loss='mean_squared_error')"
   ]
  },
  {
   "cell_type": "code",
   "execution_count": 43,
   "metadata": {},
   "outputs": [
    {
     "name": "stdout",
     "output_type": "stream",
     "text": [
      "Epoch 1/50\n",
      "4/4 [==============================] - 9s 53ms/step - loss: 341.1266\n",
      "Epoch 2/50\n",
      "4/4 [==============================] - 0s 52ms/step - loss: 302.8641\n",
      "Epoch 3/50\n",
      "4/4 [==============================] - 0s 51ms/step - loss: 257.2879\n",
      "Epoch 4/50\n",
      "4/4 [==============================] - 0s 50ms/step - loss: 223.1125\n",
      "Epoch 5/50\n",
      "4/4 [==============================] - 0s 51ms/step - loss: 197.7482\n",
      "Epoch 6/50\n",
      "4/4 [==============================] - 0s 51ms/step - loss: 176.5460\n",
      "Epoch 7/50\n",
      "4/4 [==============================] - 0s 51ms/step - loss: 155.4265\n",
      "Epoch 8/50\n",
      "4/4 [==============================] - 0s 52ms/step - loss: 141.3170\n",
      "Epoch 9/50\n",
      "4/4 [==============================] - 0s 53ms/step - loss: 128.2566\n",
      "Epoch 10/50\n",
      "4/4 [==============================] - 0s 54ms/step - loss: 117.6073\n",
      "Epoch 11/50\n",
      "4/4 [==============================] - 0s 52ms/step - loss: 107.4606\n",
      "Epoch 12/50\n",
      "4/4 [==============================] - 0s 51ms/step - loss: 96.0841\n",
      "Epoch 13/50\n",
      "4/4 [==============================] - 0s 53ms/step - loss: 88.2124\n",
      "Epoch 14/50\n",
      "4/4 [==============================] - 0s 50ms/step - loss: 85.0061\n",
      "Epoch 15/50\n",
      "4/4 [==============================] - 0s 52ms/step - loss: 78.7707\n",
      "Epoch 16/50\n",
      "4/4 [==============================] - 0s 53ms/step - loss: 74.8845\n",
      "Epoch 17/50\n",
      "4/4 [==============================] - 0s 52ms/step - loss: 69.6011\n",
      "Epoch 18/50\n",
      "4/4 [==============================] - 0s 48ms/step - loss: 64.8812\n",
      "Epoch 19/50\n",
      "4/4 [==============================] - 0s 49ms/step - loss: 61.7743\n",
      "Epoch 20/50\n",
      "4/4 [==============================] - 0s 52ms/step - loss: 58.5172\n",
      "Epoch 21/50\n",
      "4/4 [==============================] - 0s 52ms/step - loss: 56.4338\n",
      "Epoch 22/50\n",
      "4/4 [==============================] - 0s 53ms/step - loss: 52.5779\n",
      "Epoch 23/50\n",
      "4/4 [==============================] - 0s 59ms/step - loss: 51.4980\n",
      "Epoch 24/50\n",
      "4/4 [==============================] - 0s 53ms/step - loss: 48.9064\n",
      "Epoch 25/50\n",
      "4/4 [==============================] - 0s 52ms/step - loss: 44.6330\n",
      "Epoch 26/50\n",
      "4/4 [==============================] - 0s 50ms/step - loss: 44.2547\n",
      "Epoch 27/50\n",
      "4/4 [==============================] - 0s 53ms/step - loss: 42.3122\n",
      "Epoch 28/50\n",
      "4/4 [==============================] - 0s 52ms/step - loss: 39.0082\n",
      "Epoch 29/50\n",
      "4/4 [==============================] - 0s 68ms/step - loss: 35.6648\n",
      "Epoch 30/50\n",
      "4/4 [==============================] - 0s 51ms/step - loss: 35.1050\n",
      "Epoch 31/50\n",
      "4/4 [==============================] - 0s 57ms/step - loss: 32.8738\n",
      "Epoch 32/50\n",
      "4/4 [==============================] - 0s 53ms/step - loss: 33.2345\n",
      "Epoch 33/50\n",
      "4/4 [==============================] - 0s 52ms/step - loss: 30.0726\n",
      "Epoch 34/50\n",
      "4/4 [==============================] - 0s 49ms/step - loss: 27.5740\n",
      "Epoch 35/50\n",
      "4/4 [==============================] - 0s 57ms/step - loss: 26.8884\n",
      "Epoch 36/50\n",
      "4/4 [==============================] - 0s 54ms/step - loss: 24.8904\n",
      "Epoch 37/50\n",
      "4/4 [==============================] - 0s 50ms/step - loss: 22.3048\n",
      "Epoch 38/50\n",
      "4/4 [==============================] - 0s 49ms/step - loss: 21.6849\n",
      "Epoch 39/50\n",
      "4/4 [==============================] - 0s 50ms/step - loss: 21.6037\n",
      "Epoch 40/50\n",
      "4/4 [==============================] - 0s 50ms/step - loss: 18.9602\n",
      "Epoch 41/50\n",
      "4/4 [==============================] - 0s 48ms/step - loss: 19.7168\n",
      "Epoch 42/50\n",
      "4/4 [==============================] - 0s 50ms/step - loss: 18.3766\n",
      "Epoch 43/50\n",
      "4/4 [==============================] - 0s 61ms/step - loss: 16.2670\n",
      "Epoch 44/50\n",
      "4/4 [==============================] - 0s 50ms/step - loss: 16.5235\n",
      "Epoch 45/50\n",
      "4/4 [==============================] - 0s 51ms/step - loss: 14.9935\n",
      "Epoch 46/50\n",
      "4/4 [==============================] - 0s 52ms/step - loss: 14.4810\n",
      "Epoch 47/50\n",
      "4/4 [==============================] - 0s 60ms/step - loss: 13.9509\n",
      "Epoch 48/50\n",
      "4/4 [==============================] - 0s 51ms/step - loss: 13.4494\n",
      "Epoch 49/50\n",
      "4/4 [==============================] - 0s 52ms/step - loss: 12.9389\n",
      "Epoch 50/50\n",
      "4/4 [==============================] - 0s 51ms/step - loss: 11.6111\n"
     ]
    },
    {
     "data": {
      "text/plain": [
       "<keras.src.callbacks.History at 0x2807e5ea530>"
      ]
     },
     "execution_count": 43,
     "metadata": {},
     "output_type": "execute_result"
    }
   ],
   "source": [
    "model.fit(X_train, y_train, epochs=50, batch_size=32)"
   ]
  },
  {
   "cell_type": "markdown",
   "metadata": {},
   "source": [
    "# Avaliando modelo"
   ]
  },
  {
   "cell_type": "code",
   "execution_count": 45,
   "metadata": {},
   "outputs": [],
   "source": [
    "# Separação entre entradas e saídas de avaliação\n",
    "\n",
    "X_test = []\n",
    "y_test = []\n",
    "\n",
    "for i in range(60, len(test_set)):\n",
    "    X_test.append(test_set[i-60:i])\n",
    "    y_test.append(test_set[i])\n",
    "\n",
    "X_test = np.array(X_test)\n",
    "y_test = np.array(y_test)\n",
    "\n",
    "X_test = np.reshape(X_test, (X_test.shape[0], X_test.shape[1], 1))\n",
    "# X_train.shape == (((dataset.shape[0] - int(dataset.shape[0] * 0.7)) - 60), 60, 1)"
   ]
  },
  {
   "cell_type": "code",
   "execution_count": 46,
   "metadata": {},
   "outputs": [
    {
     "name": "stdout",
     "output_type": "stream",
     "text": [
      "1/1 [==============================] - 2s 2s/step - loss: 55.9045\n"
     ]
    },
    {
     "data": {
      "text/plain": [
       "55.904476165771484"
      ]
     },
     "execution_count": 46,
     "metadata": {},
     "output_type": "execute_result"
    }
   ],
   "source": [
    "model.evaluate(X_test, y_test)"
   ]
  }
 ],
 "metadata": {
  "kernelspec": {
   "display_name": "Python 3",
   "language": "python",
   "name": "python3"
  },
  "language_info": {
   "codemirror_mode": {
    "name": "ipython",
    "version": 3
   },
   "file_extension": ".py",
   "mimetype": "text/x-python",
   "name": "python",
   "nbconvert_exporter": "python",
   "pygments_lexer": "ipython3",
   "version": "3.10.13"
  }
 },
 "nbformat": 4,
 "nbformat_minor": 2
}
